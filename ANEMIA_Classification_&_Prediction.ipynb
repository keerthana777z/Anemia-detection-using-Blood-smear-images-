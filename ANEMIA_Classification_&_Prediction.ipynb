{
  "cells": [
    {
      "cell_type": "code",
      "execution_count": null,
      "metadata": {
        "colab": {
          "base_uri": "https://localhost:8080/"
        },
        "id": "M5I78TMUgwhX",
        "outputId": "46e9555b-756c-427e-8fe7-4985ea2f7184"
      },
      "outputs": [
        {
          "name": "stdout",
          "output_type": "stream",
          "text": [
            "Mounted at /content/drive\n"
          ]
        }
      ],
      "source": [
        "from google.colab import drive\n",
        "drive.mount('/content/drive')\n"
      ]
    },
    {
      "cell_type": "code",
      "execution_count": null,
      "metadata": {
        "id": "Q8zp7UmphI6F"
      },
      "outputs": [],
      "source": [
        "DATASET_PATH = \"/content/drive/MyDrive/AneRBC-I\"\n"
      ]
    },
    {
      "cell_type": "code",
      "execution_count": 33,
      "metadata": {
        "colab": {
          "base_uri": "https://localhost:8080/"
        },
        "id": "Cghcte9XhJmf",
        "outputId": "2c867e2b-c8be-47c2-f9e7-568c0f583169"
      },
      "outputs": [
        {
          "output_type": "stream",
          "name": "stdout",
          "text": [
            "Dataset Structure:\n",
            "- .DS_Store\n",
            "- Healthy_individuals\n",
            "  - .DS_Store\n",
            "  - Binary_segmented\n",
            "  - Morphology_reports\n",
            "  - CBC_reports\n",
            "  - Original_images\n",
            "  - RGB_segmented\n",
            "- Anemic_individuals\n",
            "  - .DS_Store\n",
            "  - CBC_reports\n",
            "  - Original_images\n",
            "  - Binary_segmented\n",
            "  - Morphology_reports\n",
            "  - RGB_segmented\n",
            "- combined_cbc_reports_output.csv\n",
            "- train\n",
            "  - No_Anemia\n",
            "  - Mild_Anemia\n",
            "  - Moderate_Anemia\n",
            "  - Severe_Anemia\n",
            "- anemic_cbc_reports.csv\n"
          ]
        }
      ],
      "source": [
        "import os\n",
        "\n",
        "# List directories inside aneRBC-1\n",
        "print(\"Dataset Structure:\")\n",
        "for folder in os.listdir(DATASET_PATH):\n",
        "    print(f\"- {folder}\")\n",
        "    sub_folder_path = os.path.join(DATASET_PATH, folder)\n",
        "    if os.path.isdir(sub_folder_path):\n",
        "        for sub_folder in os.listdir(sub_folder_path):\n",
        "            print(f\"  - {sub_folder}\")\n"
      ]
    },
    {
      "cell_type": "code",
      "execution_count": null,
      "metadata": {
        "id": "JjmqeKbGhTfc"
      },
      "outputs": [],
      "source": [
        "import cv2\n",
        "import numpy as np\n",
        "import os\n",
        "import pandas as pd\n",
        "import tensorflow as tf\n",
        "from tensorflow.keras.models import Sequential\n",
        "from tensorflow.keras.layers import Conv2D, MaxPooling2D, Flatten, Dense, Dropout\n",
        "from tensorflow.keras.preprocessing.image import ImageDataGenerator"
      ]
    },
    {
      "cell_type": "code",
      "execution_count": 42,
      "metadata": {
        "colab": {
          "base_uri": "https://localhost:8080/",
          "height": 242
        },
        "id": "vNgoVuuzhj1n",
        "outputId": "997723b5-0bd0-4b95-b38d-b956e61b9237"
      },
      "outputs": [
        {
          "output_type": "stream",
          "name": "stdout",
          "text": [
            "Found 527 anemic CBC report files.\n",
            "✅ Structured Anemic CBC data saved to /content/drive/MyDrive/AneRBC-I/anemic_cbc_reports.csv\n"
          ]
        },
        {
          "output_type": "execute_result",
          "data": {
            "text/plain": [
              "  Image_Path    WBC   RBC   HGB   HCT   MCV   MCH  MCHC  RDW  PLT   MPV\n",
              "0  416_a.png   7.89     5  14.6  42.6  85.2  29.2  34.3  NaN  246    12\n",
              "1  058_a.png   7.27  4.84   8.2  28.9  59.7  16.9  28.4  NaN  425   NaN\n",
              "2  149_a.png  10.18  4.85  11.6  38.5  79.4  23.9  30.1  NaN  388   9.4\n",
              "3  116_a.png   5.91  4.81   9.4  29.9  62.2  19.5  31.4  NaN  248   NaN\n",
              "4  425_a.png   7.61  5.92  16.3  54.4  91.9  27.5    30  NaN  219  11.7"
            ],
            "text/html": [
              "\n",
              "  <div id=\"df-ce2c0995-97bf-4d90-bd7f-df3e4013083d\" class=\"colab-df-container\">\n",
              "    <div>\n",
              "<style scoped>\n",
              "    .dataframe tbody tr th:only-of-type {\n",
              "        vertical-align: middle;\n",
              "    }\n",
              "\n",
              "    .dataframe tbody tr th {\n",
              "        vertical-align: top;\n",
              "    }\n",
              "\n",
              "    .dataframe thead th {\n",
              "        text-align: right;\n",
              "    }\n",
              "</style>\n",
              "<table border=\"1\" class=\"dataframe\">\n",
              "  <thead>\n",
              "    <tr style=\"text-align: right;\">\n",
              "      <th></th>\n",
              "      <th>Image_Path</th>\n",
              "      <th>WBC</th>\n",
              "      <th>RBC</th>\n",
              "      <th>HGB</th>\n",
              "      <th>HCT</th>\n",
              "      <th>MCV</th>\n",
              "      <th>MCH</th>\n",
              "      <th>MCHC</th>\n",
              "      <th>RDW</th>\n",
              "      <th>PLT</th>\n",
              "      <th>MPV</th>\n",
              "    </tr>\n",
              "  </thead>\n",
              "  <tbody>\n",
              "    <tr>\n",
              "      <th>0</th>\n",
              "      <td>416_a.png</td>\n",
              "      <td>7.89</td>\n",
              "      <td>5</td>\n",
              "      <td>14.6</td>\n",
              "      <td>42.6</td>\n",
              "      <td>85.2</td>\n",
              "      <td>29.2</td>\n",
              "      <td>34.3</td>\n",
              "      <td>NaN</td>\n",
              "      <td>246</td>\n",
              "      <td>12</td>\n",
              "    </tr>\n",
              "    <tr>\n",
              "      <th>1</th>\n",
              "      <td>058_a.png</td>\n",
              "      <td>7.27</td>\n",
              "      <td>4.84</td>\n",
              "      <td>8.2</td>\n",
              "      <td>28.9</td>\n",
              "      <td>59.7</td>\n",
              "      <td>16.9</td>\n",
              "      <td>28.4</td>\n",
              "      <td>NaN</td>\n",
              "      <td>425</td>\n",
              "      <td>NaN</td>\n",
              "    </tr>\n",
              "    <tr>\n",
              "      <th>2</th>\n",
              "      <td>149_a.png</td>\n",
              "      <td>10.18</td>\n",
              "      <td>4.85</td>\n",
              "      <td>11.6</td>\n",
              "      <td>38.5</td>\n",
              "      <td>79.4</td>\n",
              "      <td>23.9</td>\n",
              "      <td>30.1</td>\n",
              "      <td>NaN</td>\n",
              "      <td>388</td>\n",
              "      <td>9.4</td>\n",
              "    </tr>\n",
              "    <tr>\n",
              "      <th>3</th>\n",
              "      <td>116_a.png</td>\n",
              "      <td>5.91</td>\n",
              "      <td>4.81</td>\n",
              "      <td>9.4</td>\n",
              "      <td>29.9</td>\n",
              "      <td>62.2</td>\n",
              "      <td>19.5</td>\n",
              "      <td>31.4</td>\n",
              "      <td>NaN</td>\n",
              "      <td>248</td>\n",
              "      <td>NaN</td>\n",
              "    </tr>\n",
              "    <tr>\n",
              "      <th>4</th>\n",
              "      <td>425_a.png</td>\n",
              "      <td>7.61</td>\n",
              "      <td>5.92</td>\n",
              "      <td>16.3</td>\n",
              "      <td>54.4</td>\n",
              "      <td>91.9</td>\n",
              "      <td>27.5</td>\n",
              "      <td>30</td>\n",
              "      <td>NaN</td>\n",
              "      <td>219</td>\n",
              "      <td>11.7</td>\n",
              "    </tr>\n",
              "  </tbody>\n",
              "</table>\n",
              "</div>\n",
              "    <div class=\"colab-df-buttons\">\n",
              "\n",
              "  <div class=\"colab-df-container\">\n",
              "    <button class=\"colab-df-convert\" onclick=\"convertToInteractive('df-ce2c0995-97bf-4d90-bd7f-df3e4013083d')\"\n",
              "            title=\"Convert this dataframe to an interactive table.\"\n",
              "            style=\"display:none;\">\n",
              "\n",
              "  <svg xmlns=\"http://www.w3.org/2000/svg\" height=\"24px\" viewBox=\"0 -960 960 960\">\n",
              "    <path d=\"M120-120v-720h720v720H120Zm60-500h600v-160H180v160Zm220 220h160v-160H400v160Zm0 220h160v-160H400v160ZM180-400h160v-160H180v160Zm440 0h160v-160H620v160ZM180-180h160v-160H180v160Zm440 0h160v-160H620v160Z\"/>\n",
              "  </svg>\n",
              "    </button>\n",
              "\n",
              "  <style>\n",
              "    .colab-df-container {\n",
              "      display:flex;\n",
              "      gap: 12px;\n",
              "    }\n",
              "\n",
              "    .colab-df-convert {\n",
              "      background-color: #E8F0FE;\n",
              "      border: none;\n",
              "      border-radius: 50%;\n",
              "      cursor: pointer;\n",
              "      display: none;\n",
              "      fill: #1967D2;\n",
              "      height: 32px;\n",
              "      padding: 0 0 0 0;\n",
              "      width: 32px;\n",
              "    }\n",
              "\n",
              "    .colab-df-convert:hover {\n",
              "      background-color: #E2EBFA;\n",
              "      box-shadow: 0px 1px 2px rgba(60, 64, 67, 0.3), 0px 1px 3px 1px rgba(60, 64, 67, 0.15);\n",
              "      fill: #174EA6;\n",
              "    }\n",
              "\n",
              "    .colab-df-buttons div {\n",
              "      margin-bottom: 4px;\n",
              "    }\n",
              "\n",
              "    [theme=dark] .colab-df-convert {\n",
              "      background-color: #3B4455;\n",
              "      fill: #D2E3FC;\n",
              "    }\n",
              "\n",
              "    [theme=dark] .colab-df-convert:hover {\n",
              "      background-color: #434B5C;\n",
              "      box-shadow: 0px 1px 3px 1px rgba(0, 0, 0, 0.15);\n",
              "      filter: drop-shadow(0px 1px 2px rgba(0, 0, 0, 0.3));\n",
              "      fill: #FFFFFF;\n",
              "    }\n",
              "  </style>\n",
              "\n",
              "    <script>\n",
              "      const buttonEl =\n",
              "        document.querySelector('#df-ce2c0995-97bf-4d90-bd7f-df3e4013083d button.colab-df-convert');\n",
              "      buttonEl.style.display =\n",
              "        google.colab.kernel.accessAllowed ? 'block' : 'none';\n",
              "\n",
              "      async function convertToInteractive(key) {\n",
              "        const element = document.querySelector('#df-ce2c0995-97bf-4d90-bd7f-df3e4013083d');\n",
              "        const dataTable =\n",
              "          await google.colab.kernel.invokeFunction('convertToInteractive',\n",
              "                                                    [key], {});\n",
              "        if (!dataTable) return;\n",
              "\n",
              "        const docLinkHtml = 'Like what you see? Visit the ' +\n",
              "          '<a target=\"_blank\" href=https://colab.research.google.com/notebooks/data_table.ipynb>data table notebook</a>'\n",
              "          + ' to learn more about interactive tables.';\n",
              "        element.innerHTML = '';\n",
              "        dataTable['output_type'] = 'display_data';\n",
              "        await google.colab.output.renderOutput(dataTable, element);\n",
              "        const docLink = document.createElement('div');\n",
              "        docLink.innerHTML = docLinkHtml;\n",
              "        element.appendChild(docLink);\n",
              "      }\n",
              "    </script>\n",
              "  </div>\n",
              "\n",
              "\n",
              "<div id=\"df-1bb69fdf-c331-4d2b-aec7-34899b0de35d\">\n",
              "  <button class=\"colab-df-quickchart\" onclick=\"quickchart('df-1bb69fdf-c331-4d2b-aec7-34899b0de35d')\"\n",
              "            title=\"Suggest charts\"\n",
              "            style=\"display:none;\">\n",
              "\n",
              "<svg xmlns=\"http://www.w3.org/2000/svg\" height=\"24px\"viewBox=\"0 0 24 24\"\n",
              "     width=\"24px\">\n",
              "    <g>\n",
              "        <path d=\"M19 3H5c-1.1 0-2 .9-2 2v14c0 1.1.9 2 2 2h14c1.1 0 2-.9 2-2V5c0-1.1-.9-2-2-2zM9 17H7v-7h2v7zm4 0h-2V7h2v10zm4 0h-2v-4h2v4z\"/>\n",
              "    </g>\n",
              "</svg>\n",
              "  </button>\n",
              "\n",
              "<style>\n",
              "  .colab-df-quickchart {\n",
              "      --bg-color: #E8F0FE;\n",
              "      --fill-color: #1967D2;\n",
              "      --hover-bg-color: #E2EBFA;\n",
              "      --hover-fill-color: #174EA6;\n",
              "      --disabled-fill-color: #AAA;\n",
              "      --disabled-bg-color: #DDD;\n",
              "  }\n",
              "\n",
              "  [theme=dark] .colab-df-quickchart {\n",
              "      --bg-color: #3B4455;\n",
              "      --fill-color: #D2E3FC;\n",
              "      --hover-bg-color: #434B5C;\n",
              "      --hover-fill-color: #FFFFFF;\n",
              "      --disabled-bg-color: #3B4455;\n",
              "      --disabled-fill-color: #666;\n",
              "  }\n",
              "\n",
              "  .colab-df-quickchart {\n",
              "    background-color: var(--bg-color);\n",
              "    border: none;\n",
              "    border-radius: 50%;\n",
              "    cursor: pointer;\n",
              "    display: none;\n",
              "    fill: var(--fill-color);\n",
              "    height: 32px;\n",
              "    padding: 0;\n",
              "    width: 32px;\n",
              "  }\n",
              "\n",
              "  .colab-df-quickchart:hover {\n",
              "    background-color: var(--hover-bg-color);\n",
              "    box-shadow: 0 1px 2px rgba(60, 64, 67, 0.3), 0 1px 3px 1px rgba(60, 64, 67, 0.15);\n",
              "    fill: var(--button-hover-fill-color);\n",
              "  }\n",
              "\n",
              "  .colab-df-quickchart-complete:disabled,\n",
              "  .colab-df-quickchart-complete:disabled:hover {\n",
              "    background-color: var(--disabled-bg-color);\n",
              "    fill: var(--disabled-fill-color);\n",
              "    box-shadow: none;\n",
              "  }\n",
              "\n",
              "  .colab-df-spinner {\n",
              "    border: 2px solid var(--fill-color);\n",
              "    border-color: transparent;\n",
              "    border-bottom-color: var(--fill-color);\n",
              "    animation:\n",
              "      spin 1s steps(1) infinite;\n",
              "  }\n",
              "\n",
              "  @keyframes spin {\n",
              "    0% {\n",
              "      border-color: transparent;\n",
              "      border-bottom-color: var(--fill-color);\n",
              "      border-left-color: var(--fill-color);\n",
              "    }\n",
              "    20% {\n",
              "      border-color: transparent;\n",
              "      border-left-color: var(--fill-color);\n",
              "      border-top-color: var(--fill-color);\n",
              "    }\n",
              "    30% {\n",
              "      border-color: transparent;\n",
              "      border-left-color: var(--fill-color);\n",
              "      border-top-color: var(--fill-color);\n",
              "      border-right-color: var(--fill-color);\n",
              "    }\n",
              "    40% {\n",
              "      border-color: transparent;\n",
              "      border-right-color: var(--fill-color);\n",
              "      border-top-color: var(--fill-color);\n",
              "    }\n",
              "    60% {\n",
              "      border-color: transparent;\n",
              "      border-right-color: var(--fill-color);\n",
              "    }\n",
              "    80% {\n",
              "      border-color: transparent;\n",
              "      border-right-color: var(--fill-color);\n",
              "      border-bottom-color: var(--fill-color);\n",
              "    }\n",
              "    90% {\n",
              "      border-color: transparent;\n",
              "      border-bottom-color: var(--fill-color);\n",
              "    }\n",
              "  }\n",
              "</style>\n",
              "\n",
              "  <script>\n",
              "    async function quickchart(key) {\n",
              "      const quickchartButtonEl =\n",
              "        document.querySelector('#' + key + ' button');\n",
              "      quickchartButtonEl.disabled = true;  // To prevent multiple clicks.\n",
              "      quickchartButtonEl.classList.add('colab-df-spinner');\n",
              "      try {\n",
              "        const charts = await google.colab.kernel.invokeFunction(\n",
              "            'suggestCharts', [key], {});\n",
              "      } catch (error) {\n",
              "        console.error('Error during call to suggestCharts:', error);\n",
              "      }\n",
              "      quickchartButtonEl.classList.remove('colab-df-spinner');\n",
              "      quickchartButtonEl.classList.add('colab-df-quickchart-complete');\n",
              "    }\n",
              "    (() => {\n",
              "      let quickchartButtonEl =\n",
              "        document.querySelector('#df-1bb69fdf-c331-4d2b-aec7-34899b0de35d button');\n",
              "      quickchartButtonEl.style.display =\n",
              "        google.colab.kernel.accessAllowed ? 'block' : 'none';\n",
              "    })();\n",
              "  </script>\n",
              "</div>\n",
              "\n",
              "    </div>\n",
              "  </div>\n"
            ],
            "application/vnd.google.colaboratory.intrinsic+json": {
              "type": "dataframe",
              "variable_name": "cbc_df",
              "summary": "{\n  \"name\": \"cbc_df\",\n  \"rows\": 527,\n  \"fields\": [\n    {\n      \"column\": \"Image_Path\",\n      \"properties\": {\n        \"dtype\": \"string\",\n        \"num_unique_values\": 527,\n        \"samples\": [\n          \"174_a.png\",\n          \"090_a.png\",\n          \"466_a.png\"\n        ],\n        \"semantic_type\": \"\",\n        \"description\": \"\"\n      }\n    },\n    {\n      \"column\": \"WBC\",\n      \"properties\": {\n        \"dtype\": \"category\",\n        \"num_unique_values\": 257,\n        \"samples\": [\n          \"4.94\",\n          \"19.75\",\n          \"19.41\"\n        ],\n        \"semantic_type\": \"\",\n        \"description\": \"\"\n      }\n    },\n    {\n      \"column\": \"RBC\",\n      \"properties\": {\n        \"dtype\": \"category\",\n        \"num_unique_values\": 209,\n        \"samples\": [\n          \"5.79\",\n          \"3.53\",\n          \"5.11\"\n        ],\n        \"semantic_type\": \"\",\n        \"description\": \"\"\n      }\n    },\n    {\n      \"column\": \"HGB\",\n      \"properties\": {\n        \"dtype\": \"category\",\n        \"num_unique_values\": 109,\n        \"samples\": [\n          \"4.8\",\n          \"9.9\",\n          \"16.3\"\n        ],\n        \"semantic_type\": \"\",\n        \"description\": \"\"\n      }\n    },\n    {\n      \"column\": \"HCT\",\n      \"properties\": {\n        \"dtype\": \"category\",\n        \"num_unique_values\": 189,\n        \"samples\": [\n          \"39.8\",\n          \"41.9\",\n          \"8.2\"\n        ],\n        \"semantic_type\": \"\",\n        \"description\": \"\"\n      }\n    },\n    {\n      \"column\": \"MCV\",\n      \"properties\": {\n        \"dtype\": \"category\",\n        \"num_unique_values\": 224,\n        \"samples\": [\n          \"72.4\",\n          \"52\",\n          \"69.6\"\n        ],\n        \"semantic_type\": \"\",\n        \"description\": \"\"\n      }\n    },\n    {\n      \"column\": \"MCH\",\n      \"properties\": {\n        \"dtype\": \"category\",\n        \"num_unique_values\": 162,\n        \"samples\": [\n          \"28.9\",\n          \"20.3\",\n          \"24.5\"\n        ],\n        \"semantic_type\": \"\",\n        \"description\": \"\"\n      }\n    },\n    {\n      \"column\": \"MCHC\",\n      \"properties\": {\n        \"dtype\": \"category\",\n        \"num_unique_values\": 112,\n        \"samples\": [\n          \"23.5\",\n          \"27.9\",\n          \"30\"\n        ],\n        \"semantic_type\": \"\",\n        \"description\": \"\"\n      }\n    },\n    {\n      \"column\": \"RDW\",\n      \"properties\": {\n        \"dtype\": \"number\",\n        \"std\": null,\n        \"min\": null,\n        \"max\": null,\n        \"num_unique_values\": 0,\n        \"samples\": [],\n        \"semantic_type\": \"\",\n        \"description\": \"\"\n      }\n    },\n    {\n      \"column\": \"PLT\",\n      \"properties\": {\n        \"dtype\": \"category\",\n        \"num_unique_values\": 230,\n        \"samples\": [],\n        \"semantic_type\": \"\",\n        \"description\": \"\"\n      }\n    },\n    {\n      \"column\": \"MPV\",\n      \"properties\": {\n        \"dtype\": \"category\",\n        \"num_unique_values\": 59,\n        \"samples\": [],\n        \"semantic_type\": \"\",\n        \"description\": \"\"\n      }\n    }\n  ]\n}"
            }
          },
          "metadata": {},
          "execution_count": 42
        }
      ],
      "source": [
        "import os\n",
        "import pandas as pd\n",
        "import re\n",
        "\n",
        "# Define folder path for anemic individuals' CBC reports\n",
        "folder_path = \"/content/drive/MyDrive/AneRBC-I/Anemic_individuals/CBC_reports\"\n",
        "\n",
        "# List all TXT files in the folder (Only files with \"_A\" in the name)\n",
        "txt_files = [f for f in os.listdir(folder_path) if f.endswith(\".txt\") and \"_a\" in f]\n",
        "print(f\"Found {len(txt_files)} anemic CBC report files.\")\n",
        "\n",
        "# Initialize a list to store structured data\n",
        "cbc_data_list = []\n",
        "\n",
        "# Define a regex pattern to extract numerical values\n",
        "value_pattern = re.compile(r\"([\\d.]+)\")\n",
        "\n",
        "# Columns to extract\n",
        "required_columns = [\"Image_Path\", \"WBC\", \"RBC\", \"HGB\", \"HCT\", \"MCV\",\n",
        "                    \"MCH\", \"MCHC\", \"RDW\", \"PLT\", \"MPV\"]\n",
        "\n",
        "# Read each file\n",
        "for txt_file in txt_files:\n",
        "    file_path = os.path.join(folder_path, txt_file)\n",
        "\n",
        "    # Open and read file content\n",
        "    with open(file_path, \"r\") as file:\n",
        "        lines = file.readlines()\n",
        "\n",
        "    # Dictionary to store extracted values\n",
        "    patient_data = {\"Image_Path\": txt_file.replace(\".txt\", \".png\")}  # Convert to image filename format\n",
        "\n",
        "    for line in lines:\n",
        "        parts = line.strip().split(\",\")  # CSV-like structure\n",
        "        if len(parts) >= 2:  # Ensure the line contains test data\n",
        "            test_name = parts[0].strip()  # Test name (e.g., \"WBC\", \"RBC\")\n",
        "            result = parts[1].strip()  # Result value (e.g., \"6.44 x10.e 3/μl\")\n",
        "\n",
        "            # Extract only the numerical value using regex\n",
        "            match = value_pattern.search(result)\n",
        "            if match and test_name in required_columns:\n",
        "                patient_data[test_name] = match.group(1)  # Store extracted number\n",
        "\n",
        "    # Add patient data to list\n",
        "    cbc_data_list.append(patient_data)\n",
        "\n",
        "# Convert to DataFrame with only required columns\n",
        "cbc_df = pd.DataFrame(cbc_data_list, columns=required_columns)\n",
        "\n",
        "# Save to CSV\n",
        "csv_path = \"/content/drive/MyDrive/AneRBC-I/anemic_cbc_reports.csv\"\n",
        "cbc_df.to_csv(csv_path, index=False)\n",
        "\n",
        "print(f\" Structured Anemic CBC data saved to {csv_path}\")\n",
        "cbc_df.head()  # Display first few rows\n"
      ]
    },
    {
      "cell_type": "markdown",
      "metadata": {
        "id": "_duFynFBmIGk"
      },
      "source": [
        "Step 1: Load & Preprocess Images"
      ]
    },
    {
      "cell_type": "code",
      "source": [
        "import os\n",
        "\n",
        "classes = [\"Healthy_individuals/RGB_segmented\", \"Anemic_individuals/RGB_segmented\"]  #  RBC images path\n",
        "\n",
        "for cls in classes:\n",
        "    folder_path = os.path.join(DATASET_PATH, cls)\n",
        "    num_images = len([f for f in os.listdir(folder_path) if f.endswith(('.png', '.jpg', '.jpeg'))])\n",
        "    print(f\"{cls}: {num_images} images\")\n"
      ],
      "metadata": {
        "colab": {
          "base_uri": "https://localhost:8080/"
        },
        "id": "AAloGS8soOaV",
        "outputId": "343a0b45-3805-4093-dc14-c1f992d73773"
      },
      "execution_count": 10,
      "outputs": [
        {
          "output_type": "stream",
          "name": "stdout",
          "text": [
            "Healthy_individuals/RGB_segmented: 500 images\n",
            "Anemic_individuals/RGB_segmented: 510 images\n"
          ]
        }
      ]
    },
    {
      "cell_type": "code",
      "execution_count": null,
      "metadata": {
        "colab": {
          "background_save": true
        },
        "id": "E7-RF8FymumE",
        "outputId": "09f5be98-6998-4b39-9b8d-3a4a15fd460c"
      },
      "outputs": [
        {
          "name": "stdout",
          "output_type": "stream",
          "text": [
            "✅ Loaded 808 train images and 202 validation images.\n"
          ]
        }
      ],
      "source": [
        "import os\n",
        "import numpy as np\n",
        "import cv2\n",
        "import tensorflow as tf\n",
        "from tensorflow import keras\n",
        "from sklearn.model_selection import train_test_split\n",
        "\n",
        "# Update paths to include the base dataset path\n",
        "DATASET_PATH = \"/content/drive/MyDrive/AneRBC-I\"  # Assuming this is your base path\n",
        "healthy_path = os.path.join(DATASET_PATH, \"Healthy_individuals/RGB_segmented/\")\n",
        "anemic_path = os.path.join(DATASET_PATH, \"Anemic_individuals/RGB_segmented/\")\n",
        "\n",
        "# Load images and labels\n",
        "def load_images_from_folder(folder, label):\n",
        "    images = []\n",
        "    labels = []\n",
        "    for filename in os.listdir(folder):\n",
        "        img_path = os.path.join(folder, filename)\n",
        "        img = cv2.imread(img_path)\n",
        "        if img is not None:\n",
        "            img = cv2.resize(img, (224, 224))  # Resize\n",
        "            img = img / 255.0  # Normalize\n",
        "            images.append(img)\n",
        "            labels.append(label)\n",
        "    return images, labels\n",
        "\n",
        "# Load Healthy (Label = 0) and Anemic (Label = 1)\n",
        "healthy_images, healthy_labels = load_images_from_folder(healthy_path, 0)\n",
        "anemic_images, anemic_labels = load_images_from_folder(anemic_path, 1)\n",
        "\n",
        "# Combine dataset\n",
        "X = np.array(healthy_images + anemic_images)\n",
        "y = np.array(healthy_labels + anemic_labels)\n",
        "\n",
        "# Split into Train & Validation\n",
        "X_train, X_val, y_train, y_val = train_test_split(X, y, test_size=0.2, random_state=42, stratify=y)\n",
        "\n",
        "print(f\" Loaded {len(X_train)} train images and {len(X_val)} validation images.\")"
      ]
    },
    {
      "cell_type": "code",
      "source": [
        "from tensorflow import keras\n",
        "import cv2\n",
        "import numpy as np\n",
        "\n",
        "# Load the saved model\n",
        "model = keras.models.load_model(\"/content/drive/MyDrive/anemia_classifier.h5\")\n",
        "\n",
        "print(\" Model loaded successfully!\")\n"
      ],
      "metadata": {
        "colab": {
          "base_uri": "https://localhost:8080/"
        },
        "id": "4N5OK_jSukOc",
        "outputId": "a226a588-2b65-4770-9473-1131c888cbfe"
      },
      "execution_count": 16,
      "outputs": [
        {
          "output_type": "stream",
          "name": "stderr",
          "text": [
            "WARNING:absl:Compiled the loaded model, but the compiled metrics have yet to be built. `model.compile_metrics` will be empty until you train or evaluate the model.\n"
          ]
        },
        {
          "output_type": "stream",
          "name": "stdout",
          "text": [
            " Model loaded successfully!\n"
          ]
        }
      ]
    },
    {
      "cell_type": "code",
      "source": [
        "def preprocess_image(image_path):\n",
        "    img = cv2.imread(image_path)  # Read the image\n",
        "    img = cv2.resize(img, (224, 224))  # Resize to match model input size\n",
        "    img = img / 255.0  # Normalize pixel values\n",
        "    img = np.expand_dims(img, axis=0)  # Expand dimensions for model input\n",
        "    return img\n"
      ],
      "metadata": {
        "id": "xXyvE_UHvsHD"
      },
      "execution_count": 17,
      "outputs": []
    },
    {
      "cell_type": "code",
      "source": [
        "def classify_image(image_path):\n",
        "    img = preprocess_image(image_path)  # Preprocess image\n",
        "    prediction = model.predict(img)[0][0]  # Get prediction\n",
        "\n",
        "    # Convert probability to class\n",
        "    if prediction >= 0.5:\n",
        "        print(\" The image is classified as Anemic.\")\n",
        "    else:\n",
        "        print(\"The image is classified as Healthy.\")\n",
        "\n",
        "# Example usage:\n",
        "image_path = \"/content/008_a.png\"  # Replace with your image path\n",
        "classify_image(image_path)\n"
      ],
      "metadata": {
        "colab": {
          "base_uri": "https://localhost:8080/"
        },
        "id": "SmOtV1R1vvnN",
        "outputId": "7c3bf667-2c05-470b-9416-9c6e57a737dd"
      },
      "execution_count": 21,
      "outputs": [
        {
          "output_type": "stream",
          "name": "stdout",
          "text": [
            "\u001b[1m1/1\u001b[0m \u001b[32m━━━━━━━━━━━━━━━━━━━━\u001b[0m\u001b[37m\u001b[0m \u001b[1m0s\u001b[0m 77ms/step\n",
            " The image is classified as Anemic.\n"
          ]
        }
      ]
    },
    {
      "cell_type": "code",
      "source": [
        "predictions = model.predict(X_val)  # Get probability scores\n",
        "print(predictions[:10])  # Print first 10 predicted probabilities\n"
      ],
      "metadata": {
        "colab": {
          "base_uri": "https://localhost:8080/"
        },
        "id": "ua8-ZqMDwwiB",
        "outputId": "c8f37b7a-e1ce-4184-c8e1-f624479a9b63"
      },
      "execution_count": 23,
      "outputs": [
        {
          "output_type": "stream",
          "name": "stdout",
          "text": [
            "\u001b[1m7/7\u001b[0m \u001b[32m━━━━━━━━━━━━━━━━━━━━\u001b[0m\u001b[37m\u001b[0m \u001b[1m6s\u001b[0m 836ms/step\n",
            "[[0.501469  ]\n",
            " [0.5014688 ]\n",
            " [0.5014776 ]\n",
            " [0.5014703 ]\n",
            " [0.5014688 ]\n",
            " [0.5014688 ]\n",
            " [0.5014688 ]\n",
            " [0.5014719 ]\n",
            " [0.5014688 ]\n",
            " [0.50146925]]\n"
          ]
        }
      ]
    },
    {
      "cell_type": "code",
      "source": [
        "import tensorflow as tf\n",
        "from tensorflow.keras.applications import MobileNetV2\n",
        "from tensorflow.keras.layers import Dense, Flatten, Dropout\n",
        "from tensorflow.keras.models import Model\n",
        "from tensorflow.keras.preprocessing.image import ImageDataGenerator\n",
        "\n",
        "# Load MobileNetV2 Pre-Trained Model (without top layers)\n",
        "base_model = MobileNetV2(weights='imagenet', include_top=False, input_shape=(224, 224, 3))\n",
        "\n",
        "# Freeze all layers (so it doesn’t lose pre-trained knowledge)\n",
        "for layer in base_model.layers:\n",
        "    layer.trainable = False\n",
        "\n",
        "# Add Custom Layers for Classification\n",
        "x = Flatten()(base_model.output)\n",
        "x = Dense(128, activation='relu')(x)\n",
        "x = Dropout(0.3)(x)  # Prevent overfitting\n",
        "x = Dense(1, activation='sigmoid')(x)  # Binary Classification (Healthy vs Anemic)\n",
        "\n",
        "# Create Final Model\n",
        "model = Model(inputs=base_model.input, outputs=x)\n",
        "\n",
        "# Compile the Model\n",
        "model.compile(optimizer='adam', loss='binary_crossentropy', metrics=['accuracy'])\n",
        "\n",
        "# Train the Model\n",
        "model.fit(X_train, y_train, validation_data=(X_val, y_val), epochs=20, batch_size=16)\n",
        "\n",
        "# Save the Model\n",
        "model.save(\"/content/drive/MyDrive/anemia_classifier_mobilenet.h5\")\n",
        "print(\" Pre-Trained Model Saved Successfully!\")\n"
      ],
      "metadata": {
        "colab": {
          "base_uri": "https://localhost:8080/"
        },
        "id": "i0XFhILGxVlZ",
        "outputId": "fffd6726-c23a-4975-9d59-0d27a9d0c2a1"
      },
      "execution_count": 25,
      "outputs": [
        {
          "output_type": "stream",
          "name": "stdout",
          "text": [
            "Epoch 1/20\n",
            "\u001b[1m51/51\u001b[0m \u001b[32m━━━━━━━━━━━━━━━━━━━━\u001b[0m\u001b[37m\u001b[0m \u001b[1m58s\u001b[0m 992ms/step - accuracy: 0.5610 - loss: 5.5145 - val_accuracy: 0.6931 - val_loss: 0.5784\n",
            "Epoch 2/20\n",
            "\u001b[1m51/51\u001b[0m \u001b[32m━━━━━━━━━━━━━━━━━━━━\u001b[0m\u001b[37m\u001b[0m \u001b[1m78s\u001b[0m 924ms/step - accuracy: 0.7292 - loss: 0.5369 - val_accuracy: 0.7723 - val_loss: 0.5627\n",
            "Epoch 3/20\n",
            "\u001b[1m51/51\u001b[0m \u001b[32m━━━━━━━━━━━━━━━━━━━━\u001b[0m\u001b[37m\u001b[0m \u001b[1m83s\u001b[0m 945ms/step - accuracy: 0.7532 - loss: 0.5579 - val_accuracy: 0.7574 - val_loss: 0.4608\n",
            "Epoch 4/20\n",
            "\u001b[1m51/51\u001b[0m \u001b[32m━━━━━━━━━━━━━━━━━━━━\u001b[0m\u001b[37m\u001b[0m \u001b[1m85s\u001b[0m 1s/step - accuracy: 0.7814 - loss: 0.4319 - val_accuracy: 0.7574 - val_loss: 0.4512\n",
            "Epoch 5/20\n",
            "\u001b[1m51/51\u001b[0m \u001b[32m━━━━━━━━━━━━━━━━━━━━\u001b[0m\u001b[37m\u001b[0m \u001b[1m51s\u001b[0m 1s/step - accuracy: 0.7919 - loss: 0.4215 - val_accuracy: 0.7970 - val_loss: 0.4733\n",
            "Epoch 6/20\n",
            "\u001b[1m51/51\u001b[0m \u001b[32m━━━━━━━━━━━━━━━━━━━━\u001b[0m\u001b[37m\u001b[0m \u001b[1m48s\u001b[0m 950ms/step - accuracy: 0.8450 - loss: 0.3459 - val_accuracy: 0.8119 - val_loss: 0.4084\n",
            "Epoch 7/20\n",
            "\u001b[1m51/51\u001b[0m \u001b[32m━━━━━━━━━━━━━━━━━━━━\u001b[0m\u001b[37m\u001b[0m \u001b[1m81s\u001b[0m 936ms/step - accuracy: 0.8021 - loss: 0.3530 - val_accuracy: 0.8119 - val_loss: 0.4008\n",
            "Epoch 8/20\n",
            "\u001b[1m51/51\u001b[0m \u001b[32m━━━━━━━━━━━━━━━━━━━━\u001b[0m\u001b[37m\u001b[0m \u001b[1m49s\u001b[0m 974ms/step - accuracy: 0.8541 - loss: 0.2811 - val_accuracy: 0.8020 - val_loss: 0.4579\n",
            "Epoch 9/20\n",
            "\u001b[1m51/51\u001b[0m \u001b[32m━━━━━━━━━━━━━━━━━━━━\u001b[0m\u001b[37m\u001b[0m \u001b[1m84s\u001b[0m 1s/step - accuracy: 0.8188 - loss: 0.3272 - val_accuracy: 0.8317 - val_loss: 0.3704\n",
            "Epoch 10/20\n",
            "\u001b[1m51/51\u001b[0m \u001b[32m━━━━━━━━━━━━━━━━━━━━\u001b[0m\u001b[37m\u001b[0m \u001b[1m80s\u001b[0m 965ms/step - accuracy: 0.8135 - loss: 0.2807 - val_accuracy: 0.8366 - val_loss: 0.3936\n",
            "Epoch 11/20\n",
            "\u001b[1m51/51\u001b[0m \u001b[32m━━━━━━━━━━━━━━━━━━━━\u001b[0m\u001b[37m\u001b[0m \u001b[1m48s\u001b[0m 931ms/step - accuracy: 0.8359 - loss: 0.2632 - val_accuracy: 0.8416 - val_loss: 0.3905\n",
            "Epoch 12/20\n",
            "\u001b[1m51/51\u001b[0m \u001b[32m━━━━━━━━━━━━━━━━━━━━\u001b[0m\u001b[37m\u001b[0m \u001b[1m81s\u001b[0m 906ms/step - accuracy: 0.8248 - loss: 0.2773 - val_accuracy: 0.8317 - val_loss: 0.4121\n",
            "Epoch 13/20\n",
            "\u001b[1m51/51\u001b[0m \u001b[32m━━━━━━━━━━━━━━━━━━━━\u001b[0m\u001b[37m\u001b[0m \u001b[1m47s\u001b[0m 918ms/step - accuracy: 0.8562 - loss: 0.2407 - val_accuracy: 0.8218 - val_loss: 0.4307\n",
            "Epoch 14/20\n",
            "\u001b[1m51/51\u001b[0m \u001b[32m━━━━━━━━━━━━━━━━━━━━\u001b[0m\u001b[37m\u001b[0m \u001b[1m82s\u001b[0m 921ms/step - accuracy: 0.8779 - loss: 0.2007 - val_accuracy: 0.8267 - val_loss: 0.4819\n",
            "Epoch 15/20\n",
            "\u001b[1m51/51\u001b[0m \u001b[32m━━━━━━━━━━━━━━━━━━━━\u001b[0m\u001b[37m\u001b[0m \u001b[1m82s\u001b[0m 926ms/step - accuracy: 0.8757 - loss: 0.2146 - val_accuracy: 0.8069 - val_loss: 0.4414\n",
            "Epoch 16/20\n",
            "\u001b[1m51/51\u001b[0m \u001b[32m━━━━━━━━━━━━━━━━━━━━\u001b[0m\u001b[37m\u001b[0m \u001b[1m48s\u001b[0m 946ms/step - accuracy: 0.8688 - loss: 0.2120 - val_accuracy: 0.8069 - val_loss: 0.4724\n",
            "Epoch 17/20\n",
            "\u001b[1m51/51\u001b[0m \u001b[32m━━━━━━━━━━━━━━━━━━━━\u001b[0m\u001b[37m\u001b[0m \u001b[1m49s\u001b[0m 958ms/step - accuracy: 0.9048 - loss: 0.1765 - val_accuracy: 0.8168 - val_loss: 0.4651\n",
            "Epoch 18/20\n",
            "\u001b[1m51/51\u001b[0m \u001b[32m━━━━━━━━━━━━━━━━━━━━\u001b[0m\u001b[37m\u001b[0m \u001b[1m82s\u001b[0m 965ms/step - accuracy: 0.8619 - loss: 0.2356 - val_accuracy: 0.8317 - val_loss: 0.4491\n",
            "Epoch 19/20\n",
            "\u001b[1m51/51\u001b[0m \u001b[32m━━━━━━━━━━━━━━━━━━━━\u001b[0m\u001b[37m\u001b[0m \u001b[1m80s\u001b[0m 924ms/step - accuracy: 0.8531 - loss: 0.2137 - val_accuracy: 0.8218 - val_loss: 0.5235\n",
            "Epoch 20/20\n",
            "\u001b[1m51/51\u001b[0m \u001b[32m━━━━━━━━━━━━━━━━━━━━\u001b[0m\u001b[37m\u001b[0m \u001b[1m84s\u001b[0m 962ms/step - accuracy: 0.8697 - loss: 0.1828 - val_accuracy: 0.8218 - val_loss: 0.5522\n"
          ]
        },
        {
          "output_type": "stream",
          "name": "stderr",
          "text": [
            "WARNING:absl:You are saving your model as an HDF5 file via `model.save()` or `keras.saving.save_model(model)`. This file format is considered legacy. We recommend using instead the native Keras format, e.g. `model.save('my_model.keras')` or `keras.saving.save_model(model, 'my_model.keras')`. \n"
          ]
        },
        {
          "output_type": "stream",
          "name": "stdout",
          "text": [
            " Pre-Trained Model Saved Successfully!\n"
          ]
        }
      ]
    },
    {
      "cell_type": "code",
      "source": [
        "from tensorflow.keras.models import load_model\n",
        "\n",
        "# Load the saved model\n",
        "model = load_model(\"/content/drive/MyDrive/anemia_classifier_mobilenet.h5\")\n",
        "\n",
        "print(\" Model loaded successfully!\")\n"
      ],
      "metadata": {
        "colab": {
          "base_uri": "https://localhost:8080/"
        },
        "id": "HkhTQvlu3fXC",
        "outputId": "b5f08037-3060-4679-8f5a-b3be79bac4d1"
      },
      "execution_count": 27,
      "outputs": [
        {
          "output_type": "stream",
          "name": "stderr",
          "text": [
            "WARNING:absl:Compiled the loaded model, but the compiled metrics have yet to be built. `model.compile_metrics` will be empty until you train or evaluate the model.\n"
          ]
        },
        {
          "output_type": "stream",
          "name": "stdout",
          "text": [
            " Model loaded successfully!\n"
          ]
        }
      ]
    },
    {
      "cell_type": "code",
      "source": [
        "import cv2\n",
        "import numpy as np\n",
        "\n",
        "def preprocess_image(image_path):\n",
        "    img = cv2.imread(image_path)  # Read image\n",
        "    img = cv2.resize(img, (224, 224))  # Resize to match model input\n",
        "    img = img / 255.0  # Normalize pixel values\n",
        "    img = np.expand_dims(img, axis=0)  # Add batch dimension\n",
        "    return img\n"
      ],
      "metadata": {
        "id": "_2Z1Ei6G3iKp"
      },
      "execution_count": 28,
      "outputs": []
    },
    {
      "cell_type": "code",
      "source": [
        "def predict_anemia(image_path):\n",
        "    img = preprocess_image(image_path)  # Preprocess the image\n",
        "    prediction = model.predict(img)[0][0]  # Get prediction score\n",
        "\n",
        "    # Threshold at 0.5 (since it's binary classification)\n",
        "    if prediction > 0.5:\n",
        "        result = \"Anemic \"\n",
        "    else:\n",
        "        result = \"Healthy \"\n",
        "\n",
        "    return result, prediction\n",
        "\n",
        "# Example usage:\n",
        "image_path = \"/content/008_a.png\"  # Change to your test image path\n",
        "result, confidence = predict_anemia(image_path)\n",
        "print(f\"Prediction: {result} (Confidence: {confidence:.4f})\")\n"
      ],
      "metadata": {
        "colab": {
          "base_uri": "https://localhost:8080/"
        },
        "id": "NQmK5O7a3lLT",
        "outputId": "5b0175ac-f26f-4cf6-c307-7463eae529b0"
      },
      "execution_count": 31,
      "outputs": [
        {
          "output_type": "stream",
          "name": "stdout",
          "text": [
            "\u001b[1m1/1\u001b[0m \u001b[32m━━━━━━━━━━━━━━━━━━━━\u001b[0m\u001b[37m\u001b[0m \u001b[1m0s\u001b[0m 83ms/step\n",
            "Prediction: Anemic  (Confidence: 0.9952)\n"
          ]
        }
      ]
    },
    {
      "source": [
        "import pandas as pd\n",
        "import numpy as np\n",
        "\n",
        "# Load the CBC report CSV\n",
        "csv_path = \"/content/drive/MyDrive/AneRBC-I/anemic_cbc_reports.csv\"\n",
        "cbc_data = pd.read_csv(csv_path)\n",
        "\n",
        "# Select only numeric columns for calculating the mean\n",
        "numeric_columns = cbc_data.select_dtypes(include=np.number).columns\n",
        "\n",
        "# Handle missing values (fill with mean of numeric columns only)\n",
        "cbc_data[numeric_columns] = cbc_data[numeric_columns].fillna(cbc_data[numeric_columns].mean())"
      ],
      "cell_type": "code",
      "metadata": {
        "id": "simJmVym6F5G"
      },
      "execution_count": 43,
      "outputs": []
    },
    {
      "cell_type": "code",
      "source": [
        "print(cbc_data)"
      ],
      "metadata": {
        "colab": {
          "base_uri": "https://localhost:8080/"
        },
        "id": "docIuvRz-L2i",
        "outputId": "fc8d510b-2775-4b70-c330-52338c1d1ca6"
      },
      "execution_count": 48,
      "outputs": [
        {
          "output_type": "stream",
          "name": "stdout",
          "text": [
            "    Image_Path    WBC   RBC        HGB   HCT   MCV   MCH  MCHC  RDW     PLT  \\\n",
            "0    416_a.png   7.89  5.00  14.600000  42.6  85.2  29.2  34.3  NaN   246.0   \n",
            "1    058_a.png   7.27  4.84   8.200000  28.9  59.7  16.9  28.4  NaN   425.0   \n",
            "2    149_a.png  10.18  4.85  11.600000  38.5  79.4  23.9  30.1  NaN   388.0   \n",
            "3    116_a.png   5.91  4.81   9.400000  29.9  62.2  19.5  31.4  NaN   248.0   \n",
            "4    425_a.png   7.61  5.92  16.300000  54.4  91.9  27.5  30.0  NaN   219.0   \n",
            "..         ...    ...   ...        ...   ...   ...   ...   ...  ...     ...   \n",
            "522  248_a.png  10.74  4.66  10.600000  33.9  72.7  22.7  31.3  NaN   429.0   \n",
            "523  302_a.png   9.89  3.42  10.285117  21.5  62.9  16.4  26.0  NaN  1503.0   \n",
            "524  283_a.png   1.74  2.80   6.100000  20.3  72.5  21.8  30.0  NaN    32.0   \n",
            "525  326_a.png  14.56  4.17  10.285117  30.6  73.4  20.1  27.5  NaN   344.0   \n",
            "526  343_a.png  11.67  4.33  10.285117  23.7  54.7  15.9  29.1  NaN   489.0   \n",
            "\n",
            "           MPV  \n",
            "0    12.000000  \n",
            "1    12.358368  \n",
            "2     9.400000  \n",
            "3    12.358368  \n",
            "4    11.700000  \n",
            "..         ...  \n",
            "522  11.200000  \n",
            "523   8.500000  \n",
            "524  12.358368  \n",
            "525  12.358368  \n",
            "526   9.300000  \n",
            "\n",
            "[527 rows x 11 columns]\n"
          ]
        }
      ]
    },
    {
      "cell_type": "code",
      "source": [
        "import pandas as pd\n",
        "import os\n",
        "\n",
        "# Load the CBC dataset\n",
        "csv_path = \"/content/drive/MyDrive/AneRBC-I/anemic_cbc_reports.csv\"\n",
        "cbc_data = pd.read_csv(csv_path)\n",
        "\n",
        "# Ensure 'Image_Path' column is treated as a string\n",
        "cbc_data[\"Image_Path\"] = cbc_data[\"Image_Path\"].astype(str).str.strip()\n",
        "\n",
        "# 🔹 Path of the image passed to the pretrained model\n",
        "full_image_path = \"/content/test_images/058_a.png\"  # Example, replace dynamically\n",
        "\n",
        "# 🔹 Extract filename from the full path\n",
        "uploaded_image_name = os.path.basename(full_image_path)  # Extracts '058_a.png'\n",
        "\n",
        "# 🔹 Match image name exactly\n",
        "cbc_row = cbc_data[cbc_data[\"Image_Path\"] == uploaded_image_name]\n",
        "\n",
        "# Check if CBC report is found\n",
        "if cbc_row.empty:\n",
        "    print(f\" CBC report not found for {uploaded_image_name}.\")\n",
        "else:\n",
        "    print(f\" CBC report found for {uploaded_image_name}:\\n\", cbc_row)\n",
        "\n",
        "    # Extract CBC values\n",
        "    hgb = cbc_row[\"HGB\"].values[0]\n",
        "    hct = cbc_row[\"HCT\"].values[0]\n",
        "    mcv = cbc_row[\"MCV\"].values[0]\n",
        "    mch = cbc_row[\"MCH\"].values[0]\n",
        "    mchc = cbc_row[\"MCHC\"].values[0]\n",
        "    rdw = cbc_row[\"RDW\"].values[0]\n",
        "    rbc = cbc_row[\"RBC\"].values[0]\n",
        "    plt = cbc_row[\"PLT\"].values[0]\n",
        "\n",
        "    # 🔹 Function to classify anemia severity\n",
        "    def classify_anemia(hgb, hct, mcv, mch, mchc, rdw, rbc, plt):\n",
        "        # Default classification\n",
        "        severity = \"Unknown\"\n",
        "\n",
        "        # 1️⃣ No Anemia\n",
        "        if hgb >= 12 and hct >= 36 and 80 <= mcv <= 100:\n",
        "            severity = \"No Anemia\"\n",
        "\n",
        "        # 2️⃣ Mild Anemia\n",
        "        elif 10 <= hgb < 12 and hct < 36:\n",
        "            severity = \"Mild Anemia\"\n",
        "\n",
        "        # 3️⃣ Moderate Anemia\n",
        "        elif 8 <= hgb < 10 or (hct < 30 and mcv < 80 and rbc < 4.0):\n",
        "            severity = \"Moderate Anemia\"\n",
        "\n",
        "        # 4️⃣ Severe Anemia\n",
        "        elif hgb < 8 or (hct < 25 and rdw > 15 and plt < 100):\n",
        "            severity = \"Severe Anemia\"\n",
        "\n",
        "        return severity\n",
        "\n",
        "    # 🔹 Predict severity\n",
        "    anemia_severity = classify_anemia(hgb, hct, mcv, mch, mchc, rdw, rbc, plt)\n",
        "    print()\n",
        "\n",
        "    print(f\" Predicted Anemia Severity for {uploaded_image_name}: {anemia_severity}\")\n"
      ],
      "metadata": {
        "colab": {
          "base_uri": "https://localhost:8080/"
        },
        "id": "0PvfiAzE_J-x",
        "outputId": "5a02fa15-ef71-4d90-c81f-b96052961dfa"
      },
      "execution_count": 56,
      "outputs": [
        {
          "output_type": "stream",
          "name": "stdout",
          "text": [
            " CBC report found for 058_a.png:\n",
            "   Image_Path   WBC   RBC  HGB   HCT   MCV   MCH  MCHC  RDW    PLT  MPV\n",
            "1  058_a.png  7.27  4.84  8.2  28.9  59.7  16.9  28.4  NaN  425.0  NaN\n",
            "\n",
            " Predicted Anemia Severity for 058_a.png: Moderate Anemia\n"
          ]
        }
      ]
    }
  ],
  "metadata": {
    "colab": {
      "provenance": []
    },
    "kernelspec": {
      "display_name": "Python 3",
      "name": "python3"
    },
    "language_info": {
      "name": "python"
    }
  },
  "nbformat": 4,
  "nbformat_minor": 0
}